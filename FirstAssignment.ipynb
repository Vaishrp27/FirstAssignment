{
  "nbformat": 4,
  "nbformat_minor": 0,
  "metadata": {
    "colab": {
      "provenance": []
    },
    "kernelspec": {
      "name": "python3",
      "display_name": "Python 3"
    },
    "language_info": {
      "name": "python"
    }
  },
  "cells": [
    {
      "cell_type": "markdown",
      "source": [
        "1.What is Python, and why is it popular?\n",
        "   \n",
        "   Ans.-Python is a high level,third generation programming language. It's popular due to its readability, compatibility with various programming paradigms. It also has large and active community of developers and open libraries.\n",
        "\n",
        "2.What is an interpreter in Python?\n",
        "\n",
        "\n",
        "Ans.-Interpreter is a Python program that executes the code line by line.\n",
        "\n",
        "3.What are pre-defined keywords in Python?\n",
        "\n",
        "\n",
        "Ans.-Keywords are reserved words that have predefined meanings and are used to carry out certain assigned functions and can not be used as variable names.\n",
        "\n",
        "4.Can keywords be used as variable names?\n",
        "\n",
        "\n",
        "Ans.-No, keywords can't be used as variable names.\n",
        "\n",
        "5.What is mutability in Python?\n",
        "\n",
        "\n",
        "Ans.-The ability to change after creation is mutability in Python. Lists and dictionaries are mutable data types.\n",
        "\n",
        "6.Why are lists mutable, but tuples are immutable?\n",
        "\n",
        "\n",
        "Ans.-Lists are mutable because they can be altered after they are created whereas tuples can't be changed once created i.e. their storage of data in memory is permanent.\n",
        "\n",
        "7.What is the difference between “==” and “is” operators in Python\n",
        "\n",
        "\n",
        "Ans.- \"==\" refers to Equality operator and \"is\" is used as identity operator. == checks if both the variables are the same whereas \"is\" cheks if both variables point towards the same value.\n",
        "\n",
        "8.What are logical operators in Python?\n",
        "\n",
        "\n",
        "Ans.- \"and\", \"or\" & \"not\" are logical operator in Python, they are used in conditional statements.\n",
        "\n",
        "9.What is type casting in Python?\n",
        "\n",
        "\n",
        " Ans.-When the data type of a variable is changed to other data type using particular code is called type casting.\n",
        "\n",
        "10.What is the difference between implicit and explicit type casting?\n",
        "\n",
        "\n",
        "Ans.- Implicit type casting occurs when python automatically converts data type and explicit type casting occurs when data type needs to be changed in the code like float(),int()& str().\n",
        "\n",
        "11.What is the purpose of conditional statements in Python?\n",
        "\n",
        "\n",
        "Ans.-Conditional statements are used when there are multiple choices to be executed based upon the conditions.\n",
        "\n",
        "\n",
        "12.How does the elif statement work?\n",
        "-\n",
        "\n",
        "Ans.-If th previous condition does not work then the condition mentioned after elif gets executed.\n",
        "\n",
        "\n",
        "13.What is the difference between for and while loops?\n",
        "-\n",
        "\n",
        "Ans.-For loop is used for iterating over a sequence provided whereas, while loop continues the execution until the condition mentioned fails.\n",
        "\n",
        "\n",
        "14.Describe a scenario where a while loop is more suitable than a for loop.\n",
        "-Ans.-\n",
        " A while loop is suitable for repeating an action for n number of times and the value of number of times is large or unknown.\n",
        "If one wants to collect the user details visiting a website until the visitor"
      ],
      "metadata": {
        "id": "aexeQy4a8W5M"
      }
    },
    {
      "cell_type": "code",
      "source": [
        "#1.Write a Python program to print \"Hello, World!\"\n",
        "print(\"Hello World!\")\n",
        "\n",
        "\n",
        "\n"
      ],
      "metadata": {
        "colab": {
          "base_uri": "https://localhost:8080/"
        },
        "id": "0imFMnOH8w_l",
        "outputId": "f7a08241-f0e8-4266-fc05-092d2a37950f"
      },
      "execution_count": null,
      "outputs": [
        {
          "output_type": "stream",
          "name": "stdout",
          "text": [
            "Hello World!\n"
          ]
        }
      ]
    },
    {
      "cell_type": "code",
      "source": [
        "#2.Write a Python program that displays your name and age\n",
        "print(\"My name is Vaishnavi\")\n",
        "print(\"My age is 23\")\n",
        "\n",
        "\n"
      ],
      "metadata": {
        "colab": {
          "base_uri": "https://localhost:8080/"
        },
        "id": "lF2pOfCA-a30",
        "outputId": "60f3327c-e7de-4794-824c-357c7e0a710d"
      },
      "execution_count": null,
      "outputs": [
        {
          "output_type": "stream",
          "name": "stdout",
          "text": [
            "\n",
            "Here is a list of the Python keywords.  Enter any keyword to get more help.\n",
            "\n",
            "False               class               from                or\n",
            "None                continue            global              pass\n",
            "True                def                 if                  raise\n",
            "and                 del                 import              return\n",
            "as                  elif                in                  try\n",
            "assert              else                is                  while\n",
            "async               except              lambda              with\n",
            "await               finally             nonlocal            yield\n",
            "break               for                 not                 \n",
            "\n"
          ]
        }
      ]
    },
    {
      "cell_type": "code",
      "source": [
        "#3.Write code to print all the pre-defined keywords in Python using the keyword library\n",
        "help(\"keywords\")"
      ],
      "metadata": {
        "id": "2AfgUF-B-rp0"
      },
      "execution_count": null,
      "outputs": []
    },
    {
      "cell_type": "code",
      "source": [
        "#4.Write a program that checks if a given word is a Python keyword\n"
      ],
      "metadata": {
        "id": "HTgEaF_I-vaL"
      },
      "execution_count": null,
      "outputs": []
    },
    {
      "cell_type": "code",
      "source": [
        "#5.Create a list and tuple in Python, and demonstrate how attempting to change an element works differently for each\n",
        "list=[1,2,3,4,5]\n",
        "print(list)\n",
        "list[0]=9\n",
        "print(list)\n",
        "#tuple\n",
        "tup=(1,2,3,4,5)\n",
        "print(tup)\n",
        "tup[0]=9\n",
        "print(tup)\n",
        "#will throw and error:tuple' object does not support item assignment\n"
      ],
      "metadata": {
        "id": "pS_lpMai-xsT"
      },
      "execution_count": null,
      "outputs": []
    },
    {
      "cell_type": "code",
      "source": [
        "#7.\n",
        "#for and\n",
        "a=5\n",
        "b=6\n",
        "print(a<b and a==5)\n",
        "#for or\n",
        "a=5\n",
        "b=6\n",
        "print(a<b or a==5)\n",
        "#will give the value true\n",
        "a=5\n",
        "b=6\n",
        "print(a<b or a==6)\n",
        "# will still give true\n",
        "a=5\n",
        "b=6\n",
        "print(a>b or a==6)\n",
        "#for not\n",
        "a=5\n",
        "b=6\n",
        "print(not a==5)"
      ],
      "metadata": {
        "id": "lKCIfbnf-0os"
      },
      "execution_count": null,
      "outputs": []
    },
    {
      "cell_type": "code",
      "source": [
        "#8.Write a Python program to convert user input from string to integer, float, and boolean type\n",
        "a=int(input(\"Enter a value:\"))\n",
        "print(type(a))\n",
        "c=bool(input(\"Enter a value:\"))\n",
        "print(type(c))\n",
        "d=float(input(\"Enter a value:\"))\n",
        "print(type(d))\n",
        "\n"
      ],
      "metadata": {
        "id": "3yOOFDjw_L48"
      },
      "execution_count": null,
      "outputs": []
    },
    {
      "cell_type": "code",
      "source": [
        "9. Write code to demonstrate type casting with list elements.\n",
        "\n"
      ],
      "metadata": {
        "id": "b5t_-p_G_Mh8"
      },
      "execution_count": null,
      "outputs": []
    },
    {
      "cell_type": "code",
      "source": [
        "#10. Write a for loop to print numbers from 1 to 10\n",
        "for i in range(1,11,1):\n",
        "  print(i)\n"
      ],
      "metadata": {
        "id": "Kg1JR3DM_Ots"
      },
      "execution_count": null,
      "outputs": []
    },
    {
      "cell_type": "code",
      "source": [
        "#11.Write a Python program to find the sum of all even numbers between 1 and 50\n",
        "i = 0\n",
        "a = 1\n",
        "while a <= 50:\n",
        "    if a % 2 == 0:\n",
        "        i += a\n",
        "    a += 1\n",
        "\n",
        "print(\"The sum of all even numbers between 1 and 50 is:\", i)"
      ],
      "metadata": {
        "id": "qu4igI0y_RBE"
      },
      "execution_count": null,
      "outputs": []
    },
    {
      "cell_type": "code",
      "source": [
        "#12.Write a program to reverse a string using a while loop\n",
        "string = input(\"Enter the string: \")\n",
        "new_string=\"\"\n",
        "i = len(string) - 1\n",
        "while i >= 0:\n",
        "  new_string += string[i]\n",
        "  i=i-1\n",
        "print(\"The reversed string is:\", new_string)\n",
        "\n",
        "\n"
      ],
      "metadata": {
        "colab": {
          "base_uri": "https://localhost:8080/"
        },
        "id": "mEBYJhZY_UJ7",
        "outputId": "b0f746f4-bbf9-40f6-fee3-3427ba483289"
      },
      "execution_count": null,
      "outputs": [
        {
          "output_type": "stream",
          "name": "stdout",
          "text": [
            "Enter the string: vaishnavi\n",
            "The reversed string is: ivanhsiav\n",
            "enter a number:5\n",
            "120\n"
          ]
        }
      ]
    },
    {
      "cell_type": "markdown",
      "source": [],
      "metadata": {
        "id": "FCNEmdr7-l1r"
      }
    },
    {
      "cell_type": "code",
      "source": [
        "#13Write a Python program to calculate the factorial of a number provided by the user using a while loop\n",
        "num=int(input(\"enter a number:\"))\n",
        "fact=1\n",
        "a=1\n",
        "while num>=a:\n",
        "  fact=fact*a\n",
        "  a=a+1\n",
        "print(fact)"
      ],
      "metadata": {
        "id": "KsvfaqDQ_a66"
      },
      "execution_count": null,
      "outputs": []
    }
  ]
}