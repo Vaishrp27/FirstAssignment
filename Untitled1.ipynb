{
  "nbformat": 4,
  "nbformat_minor": 0,
  "metadata": {
    "colab": {
      "provenance": []
    },
    "kernelspec": {
      "name": "python3",
      "display_name": "Python 3"
    },
    "language_info": {
      "name": "python"
    }
  },
  "cells": [
    {
      "cell_type": "markdown",
      "source": [
        "1.What are data structures, and why are they important?\n",
        "\n",
        "Ans.Data structures are methods of storing,collecting,acessing the data of different forms like integer,float,string etc.\n",
        "They're important as they play a major role in memory allocation of the data according to it's type and help in accessing data.\n",
        "\n",
        "2.Explain the difference between mutable and immutable data types with examples.\n",
        "\n",
        "Ans. Data types like tuples are immutable whereas lists are mutable.\n",
        "Mutable data types's elements can be changed by accessing them through index whereas immutable data types's elements can't be changed once created.\n",
        "\n",
        "3.What are the main differences between lists and tuples in Python.\n",
        "\n",
        "Ans.Lista are mutable whereas tuples are immutable data types.\n",
        "Lists have [] whereas tuples have () as their syntax representation.\n",
        "\n",
        "4.Describe how dictionaries store data.\n",
        "\n",
        "Ans.Dictionaries store data in form of key value pairs. The keys here serve the purpose of index as in list.\n",
        "\n",
        "5.Why might you use a set instead of a list in Python?\n",
        "\n",
        "Ans.Set over list can be used to save only single copy of element as sets don't store duplicaates of elements and only when elements need not to be called through index number.\n",
        "\n",
        "6.What is a string in Python, and how is it different from a list.\n",
        "\n",
        "Ans.String is a data type whereas list is data structure that stores heterogenous forms of data also lists are mutable and subject to various actions\n",
        "\n",
        "7.How do tuples ensure data integrity in Python?\n",
        "\n",
        "Ans.As tuples are immutable that is once data saved can't be changed in tuples so it helps the integrity of data being immutable.\n",
        "\n",
        "8.What is a hash table, and how does it relate to dictionaries in Python?\n",
        "\n",
        "Ans.A Hash table is defined as a data structure used to insert, look up, and remove key-value pairs quickly.Hash table decides the storage of data in dictionaries\n",
        "\n",
        "9.Can lists contain different data types in Python?\n",
        "\n",
        "Ans.-Yes, lists can accumulate diffrenet data types in python.\n",
        "\n",
        "10.Explain why strings are immutable in Python.\n",
        "\n",
        "Ans.-Once a string is assigned a values it can not be changed and the memory location too can not be changed. If any operation changes the string will result in new string and the old one can not be altered.\n",
        "\n",
        "11.What advantages do dictionaries offer over lists for certain tasks?\n",
        "Ans.Advantages of dictionaries over lists:\n",
        " 1.Provide uniqueness unlike lists\n",
        " 2.Can be accessed by 'keys' assigned to specific values.\n",
        "\n",
        "12.Describe a scenario where using a tuple would be preferable over a list\n",
        "Ans.Tuples can be used over lists when we don't wnat to change the data either intentionally or not. Tuples dont append,remove,pop,add methods like lists.\n",
        "\n",
        "13.How do sets handle duplicate values in Python.\n",
        "\n",
        "Ans.Sets wont creat any meomory location for the duplicates and store only one element if same are available.\n",
        "\n",
        "14.How does the “in” keyword work differently for lists and dictionaries.\n",
        "\n",
        "15.Can you modify the elements of a tuple? Explain why or why not\n",
        "\n",
        "Ans.Tuples can't be changed because they were designed that way to store data without being able to change it omnce created.\n",
        "\n",
        "16.What is a nested dictionary, and give an example of its use case.\n",
        "\n",
        "Ans.nesting dicstioary means putting a dictionary inside another dictionary.\n",
        "\n",
        "17.Describe the time complexity of accessing elements in a dictionary\n",
        "\n",
        "Ans.Time complexity is regardless of the size of the dictionary, the time it takes to access a value remains constant,but if the dictionary is very large and has many collisions, the time taken to access a value may increase.\n",
        "\n",
        "18.In what situations are lists preferred over dictionaries?\n",
        "\n",
        "Ans.Lists are prefered over dictionaries when 'mutation' and storage of heterogenous data is the need.\n",
        "\n",
        "19.Why are dictionaries considered unordered, and how does that affect data retrieval?\n",
        "\n",
        "Ans.They dont have index number like lists hence they're considered unordered hence data cant be accessed by index number but through key assigend to the value.\n",
        "\n",
        "20.Explain the difference between a list and a dictionary in terms of data retrieval.\n",
        "\n",
        "Ans.In list data can be accessed by using the index number assigned whereas in dictionaries data can be accessed through the key assigned to the values that are required"
      ],
      "metadata": {
        "id": "2drHu7pFRrBc"
      }
    },
    {
      "cell_type": "code",
      "source": [
        "#1.Write a code to create a string with your name and print it\n",
        "name=\"Vaishnavi padale\"\n",
        "print(name)"
      ],
      "metadata": {
        "colab": {
          "base_uri": "https://localhost:8080/"
        },
        "id": "Vf5D0DjWzWVC",
        "outputId": "43b07773-394e-4c8c-e3ff-8082aa138a63"
      },
      "execution_count": 1,
      "outputs": [
        {
          "output_type": "stream",
          "name": "stdout",
          "text": [
            "Vaishnavi padale\n"
          ]
        }
      ]
    },
    {
      "cell_type": "code",
      "source": [
        "#2.Write a code to find the length of the string \"Hello World\"E\n",
        "string=\"Hello World!\"\n",
        "len(string)"
      ],
      "metadata": {
        "colab": {
          "base_uri": "https://localhost:8080/"
        },
        "id": "QuwXQIWEzvmu",
        "outputId": "6001148b-e65b-425a-ccd0-79f582982365"
      },
      "execution_count": 2,
      "outputs": [
        {
          "output_type": "execute_result",
          "data": {
            "text/plain": [
              "12"
            ]
          },
          "metadata": {},
          "execution_count": 2
        }
      ]
    },
    {
      "cell_type": "code",
      "source": [
        "#3.Write a code to slice the first 3 characters from the string \"Python Programming\"\n",
        "a=\"python programming\"\n",
        "a[0:3]"
      ],
      "metadata": {
        "colab": {
          "base_uri": "https://localhost:8080/",
          "height": 35
        },
        "id": "ekLJacwqz5hX",
        "outputId": "5a55f9f4-efca-416f-db94-ffeb5cc5c4b8"
      },
      "execution_count": 4,
      "outputs": [
        {
          "output_type": "execute_result",
          "data": {
            "text/plain": [
              "'pyt'"
            ],
            "application/vnd.google.colaboratory.intrinsic+json": {
              "type": "string"
            }
          },
          "metadata": {},
          "execution_count": 4
        }
      ]
    },
    {
      "cell_type": "code",
      "source": [
        "#4.Write a code to convert the string \"hello\" to uppercase.\n",
        "str=\"hello\"\n",
        "str.upper()"
      ],
      "metadata": {
        "colab": {
          "base_uri": "https://localhost:8080/",
          "height": 35
        },
        "id": "4JWsgG-v0LnF",
        "outputId": "5e54b452-c0ca-45fb-d5f7-e1eb1b2ac78b"
      },
      "execution_count": 5,
      "outputs": [
        {
          "output_type": "execute_result",
          "data": {
            "text/plain": [
              "'HELLO'"
            ],
            "application/vnd.google.colaboratory.intrinsic+json": {
              "type": "string"
            }
          },
          "metadata": {},
          "execution_count": 5
        }
      ]
    },
    {
      "cell_type": "code",
      "source": [
        "#5.Write a code to replace the word \"apple\" with \"orange\" in the string \"I like apple\n",
        "string=\"I like apple\"\n",
        "string.replace(\"apple\",\"orange\")\n"
      ],
      "metadata": {
        "colab": {
          "base_uri": "https://localhost:8080/",
          "height": 35
        },
        "id": "vCT2QWfY0ReF",
        "outputId": "873f2ec2-78f9-4028-d2e4-a13640221f85"
      },
      "execution_count": 7,
      "outputs": [
        {
          "output_type": "execute_result",
          "data": {
            "text/plain": [
              "'I like apple'"
            ],
            "application/vnd.google.colaboratory.intrinsic+json": {
              "type": "string"
            }
          },
          "metadata": {},
          "execution_count": 7
        }
      ]
    },
    {
      "cell_type": "code",
      "source": [
        "#6.Write a code to create a list with numbers 1 to 5 and print it.\n",
        "list=[1,2,3,4,5]\n",
        "print(list)"
      ],
      "metadata": {
        "colab": {
          "base_uri": "https://localhost:8080/"
        },
        "id": "0TEsy35S0kMY",
        "outputId": "1a300c34-25b7-4572-9867-b3536d1d1563"
      },
      "execution_count": 8,
      "outputs": [
        {
          "output_type": "stream",
          "name": "stdout",
          "text": [
            "[1, 2, 3, 4, 5]\n"
          ]
        }
      ]
    },
    {
      "cell_type": "code",
      "source": [
        "#7.Write a code to append the number 10 to the list [1, 2, 3, 4]\n",
        "list=[1,2,3,4]\n",
        "list.append(10)\n",
        "list"
      ],
      "metadata": {
        "colab": {
          "base_uri": "https://localhost:8080/"
        },
        "id": "a1e9WVDQ00Gm",
        "outputId": "45c45776-e2c4-4b43-84d9-1afbfade94d3"
      },
      "execution_count": 11,
      "outputs": [
        {
          "output_type": "execute_result",
          "data": {
            "text/plain": [
              "[1, 2, 3, 4, 10]"
            ]
          },
          "metadata": {},
          "execution_count": 11
        }
      ]
    },
    {
      "cell_type": "code",
      "source": [
        "#8. Write a code to remove the number 3 from the list [1, 2, 3, 4, 5]\n",
        "list=[1,2,3,4,5]\n",
        "list.remove(3)\n",
        "list"
      ],
      "metadata": {
        "colab": {
          "base_uri": "https://localhost:8080/"
        },
        "id": "BJU431lq0-sW",
        "outputId": "17d9b261-7237-4741-f6f5-062812b28c32"
      },
      "execution_count": 13,
      "outputs": [
        {
          "output_type": "execute_result",
          "data": {
            "text/plain": [
              "[1, 2, 4, 5]"
            ]
          },
          "metadata": {},
          "execution_count": 13
        }
      ]
    },
    {
      "cell_type": "code",
      "source": [
        "#9. Write a code to access the second element in the list ['a', 'b', 'c', 'd']\n",
        "list=['a', 'b', 'c', 'd']\n",
        "print(list[1])"
      ],
      "metadata": {
        "colab": {
          "base_uri": "https://localhost:8080/"
        },
        "id": "T2bf-wO910cu",
        "outputId": "de0fd6b0-1d6f-4682-c083-241acd38c0e3"
      },
      "execution_count": 14,
      "outputs": [
        {
          "output_type": "stream",
          "name": "stdout",
          "text": [
            "b\n"
          ]
        }
      ]
    },
    {
      "cell_type": "code",
      "source": [
        "#10.Write a code to reverse the list [10, 20, 30, 40, 50]\n",
        "list=[10, 20, 30, 40, 50]\n",
        "print(list[::-1])\n"
      ],
      "metadata": {
        "colab": {
          "base_uri": "https://localhost:8080/"
        },
        "id": "2J_KDlYh2GyP",
        "outputId": "25bc6779-c92e-4aab-ccc4-09ca566cdef8"
      },
      "execution_count": 15,
      "outputs": [
        {
          "output_type": "stream",
          "name": "stdout",
          "text": [
            "[50, 40, 30, 20, 10]\n"
          ]
        }
      ]
    },
    {
      "cell_type": "code",
      "source": [
        "#11. Write a code to create a tuple with the elements 10, 20, 30 and print it\n",
        "tuple=(10,20,30)\n",
        "print(tuple)"
      ],
      "metadata": {
        "colab": {
          "base_uri": "https://localhost:8080/"
        },
        "id": "c505EqAL2V6f",
        "outputId": "63817a22-8fad-4419-82f0-c8c4b4818c28"
      },
      "execution_count": 16,
      "outputs": [
        {
          "output_type": "stream",
          "name": "stdout",
          "text": [
            "(10, 20, 30)\n"
          ]
        }
      ]
    },
    {
      "cell_type": "code",
      "source": [
        "#12.  Write a code to access the first element of the tuple ('apple', 'banana', 'cherry').\n",
        "tuple=('apple', 'banana', 'cherry')\n",
        "print(tuple[0])"
      ],
      "metadata": {
        "colab": {
          "base_uri": "https://localhost:8080/"
        },
        "id": "iegrZTKJ2fo3",
        "outputId": "e6e2e80c-2e28-4677-9eae-941d3cd4ab00"
      },
      "execution_count": 17,
      "outputs": [
        {
          "output_type": "stream",
          "name": "stdout",
          "text": [
            "apple\n"
          ]
        }
      ]
    },
    {
      "cell_type": "code",
      "source": [
        "#13. Write a code to count how many times the number 2 appears in the tuple (1, 2, 3, 2, 4, 2)\n",
        "tuple=(1, 2, 3, 2, 4, 2)\n",
        "tuple.count(2)"
      ],
      "metadata": {
        "colab": {
          "base_uri": "https://localhost:8080/"
        },
        "id": "CE6a7zP125a1",
        "outputId": "30bb6ab4-4ea6-4d64-efd7-8557b847bd64"
      },
      "execution_count": 18,
      "outputs": [
        {
          "output_type": "execute_result",
          "data": {
            "text/plain": [
              "3"
            ]
          },
          "metadata": {},
          "execution_count": 18
        }
      ]
    },
    {
      "cell_type": "code",
      "source": [
        "#14.Write a code to find the index of the element \"cat\" in the tuple ('dog', 'cat', 'rabbit').\n",
        "tuple=('dog', 'cat', 'rabbit')\n",
        "tuple.index(\"cat\")"
      ],
      "metadata": {
        "colab": {
          "base_uri": "https://localhost:8080/"
        },
        "id": "0l3UFhcd3BdQ",
        "outputId": "1635a34f-1e57-44cf-9ce3-ada0d54945a7"
      },
      "execution_count": 19,
      "outputs": [
        {
          "output_type": "execute_result",
          "data": {
            "text/plain": [
              "1"
            ]
          },
          "metadata": {},
          "execution_count": 19
        }
      ]
    },
    {
      "cell_type": "code",
      "source": [
        "#15.Write a code to check if the element \"banana\" is in the tuple ('apple', 'orange', 'banana')\n",
        "tuple=('apple', 'orange', 'banana')\n",
        "if \"banana\" in tuple:\n",
        "  print(\"banana is presnt in tuple\")"
      ],
      "metadata": {
        "colab": {
          "base_uri": "https://localhost:8080/"
        },
        "id": "Vp1umxGa3PHN",
        "outputId": "437631ec-5b4e-41b2-fa2f-689dd275da53"
      },
      "execution_count": 20,
      "outputs": [
        {
          "output_type": "stream",
          "name": "stdout",
          "text": [
            "banana is presnt in tuple\n"
          ]
        }
      ]
    },
    {
      "cell_type": "code",
      "source": [
        "#16.Write a code to create a set with the elements 1, 2, 3, 4, 5 and print it\n",
        "set={1, 2, 3, 4, 5}\n",
        "print(set)"
      ],
      "metadata": {
        "colab": {
          "base_uri": "https://localhost:8080/"
        },
        "id": "m_j4RQ2G3iid",
        "outputId": "9e3df465-ea86-4cda-b76a-802a04252465"
      },
      "execution_count": 21,
      "outputs": [
        {
          "output_type": "stream",
          "name": "stdout",
          "text": [
            "{1, 2, 3, 4, 5}\n"
          ]
        }
      ]
    },
    {
      "cell_type": "code",
      "source": [
        "#17.Write a code to add the element 6 to the set {1, 2, 3, 4}.\n",
        "set= {1, 2, 3, 4}\n",
        "set.add(6)\n",
        "print(set)"
      ],
      "metadata": {
        "colab": {
          "base_uri": "https://localhost:8080/"
        },
        "id": "tB_-Meat3uk-",
        "outputId": "a682e4f4-500d-4458-ef92-a2bb86af9954"
      },
      "execution_count": 22,
      "outputs": [
        {
          "output_type": "stream",
          "name": "stdout",
          "text": [
            "{1, 2, 3, 4, 6}\n"
          ]
        }
      ]
    },
    {
      "cell_type": "code",
      "source": [
        "#18.Write a code to create a tuple with the elements 10, 20, 30 and print it.\n",
        "tuple=(10,20,30)\n",
        "print(tuple)\n"
      ],
      "metadata": {
        "colab": {
          "base_uri": "https://localhost:8080/"
        },
        "id": "nyaCPJGh39aG",
        "outputId": "886ce6d5-3a48-4d6b-d049-991ec9d0c674"
      },
      "execution_count": 23,
      "outputs": [
        {
          "output_type": "stream",
          "name": "stdout",
          "text": [
            "(10, 20, 30)\n"
          ]
        }
      ]
    },
    {
      "cell_type": "code",
      "source": [
        "#19. Write a code to access the first element of the tuple ('apple', 'banana', 'cherry')\n",
        "tuple=('apple', 'banana', 'cherry')\n",
        "tuple[0]"
      ],
      "metadata": {
        "colab": {
          "base_uri": "https://localhost:8080/",
          "height": 35
        },
        "id": "p0r0-lDu4KR9",
        "outputId": "2169caac-5df5-4a2b-97ba-a43aeba74651"
      },
      "execution_count": 24,
      "outputs": [
        {
          "output_type": "execute_result",
          "data": {
            "text/plain": [
              "'apple'"
            ],
            "application/vnd.google.colaboratory.intrinsic+json": {
              "type": "string"
            }
          },
          "metadata": {},
          "execution_count": 24
        }
      ]
    },
    {
      "cell_type": "code",
      "source": [
        " #20.Write a code to count how many times the number 2 appears in the tuple (1, 2, 3, 2, 4, 2)\n",
        " tuple=(1, 2, 3, 2, 4, 2)\n",
        " tuple.count(2)"
      ],
      "metadata": {
        "colab": {
          "base_uri": "https://localhost:8080/"
        },
        "id": "bt8fKHaq4Xs1",
        "outputId": "27fcbea2-a7a9-4fc4-dae1-6f1ed3c8fe9f"
      },
      "execution_count": 26,
      "outputs": [
        {
          "output_type": "execute_result",
          "data": {
            "text/plain": [
              "3"
            ]
          },
          "metadata": {},
          "execution_count": 26
        }
      ]
    },
    {
      "cell_type": "code",
      "source": [
        "#21.Write a code to find the index of the element \"cat\" in the tuple ('dog', 'cat', 'rabbit')\n",
        "tuple=('dog', 'cat', 'rabbit')\n",
        "tuple.index(\"cat\")\n"
      ],
      "metadata": {
        "colab": {
          "base_uri": "https://localhost:8080/"
        },
        "id": "j0B81yjW4rLd",
        "outputId": "054ebf8b-3b40-455f-a2ca-1eeebc92315d"
      },
      "execution_count": 27,
      "outputs": [
        {
          "output_type": "execute_result",
          "data": {
            "text/plain": [
              "1"
            ]
          },
          "metadata": {},
          "execution_count": 27
        }
      ]
    },
    {
      "cell_type": "code",
      "source": [
        "#22.Write a code to check if the element \"banana\" is in the tuple ('apple', 'orange', 'banana').\n",
        "tuple=('apple', 'orange', 'banana')\n",
        "if \"banana\" in tuple:\n",
        "  print(\"banana is presnet in tuple\")\n",
        ""
      ],
      "metadata": {
        "colab": {
          "base_uri": "https://localhost:8080/"
        },
        "id": "bo3ws_9G48jm",
        "outputId": "01f46da0-f8e1-41bf-bf94-7a4f65639f55"
      },
      "execution_count": 28,
      "outputs": [
        {
          "output_type": "stream",
          "name": "stdout",
          "text": [
            "banana is presnet in tuple\n"
          ]
        }
      ]
    },
    {
      "cell_type": "code",
      "source": [
        "#23.Write a code to create a set with the elements 1, 2, 3, 4, 5 and print it\n",
        "set={1, 2, 3, 4, 5}\n",
        "print(set)"
      ],
      "metadata": {
        "colab": {
          "base_uri": "https://localhost:8080/"
        },
        "id": "RTVrExUF5Ll5",
        "outputId": "c8d71321-87d2-4605-fe05-2457bc3c4c3d"
      },
      "execution_count": 32,
      "outputs": [
        {
          "output_type": "stream",
          "name": "stdout",
          "text": [
            "{1, 2, 3, 4, 5}\n"
          ]
        }
      ]
    },
    {
      "cell_type": "code",
      "source": [
        "#24.Write a code to add the element 6 to the set {1, 2, 3, 4}\n",
        "set={1, 2, 3, 4}\n",
        "set.add(6)\n",
        "set"
      ],
      "metadata": {
        "colab": {
          "base_uri": "https://localhost:8080/"
        },
        "id": "AS5gSU4K5V0j",
        "outputId": "0a728483-bac9-454c-852e-a2fe8747cc93"
      },
      "execution_count": 31,
      "outputs": [
        {
          "output_type": "execute_result",
          "data": {
            "text/plain": [
              "{1, 2, 3, 4, 6}"
            ]
          },
          "metadata": {},
          "execution_count": 31
        }
      ]
    }
  ]
}